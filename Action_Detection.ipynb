{
 "cells": [
  {
   "cell_type": "markdown",
   "id": "9855f994",
   "metadata": {},
   "source": [
    "## 检测动作，通过多普勒频移谱构建CNN检测"
   ]
  },
  {
   "cell_type": "code",
   "execution_count": 4,
   "id": "d72fe608",
   "metadata": {},
   "outputs": [
    {
     "name": "stdout",
     "output_type": "stream",
     "text": [
      "6\n"
     ]
    }
   ],
   "source": [
    "import pickle\n",
    "import numpy as np\n",
    "from sklearn.model_selection import train_test_split\n",
    "\n",
    "with open('data.data','rb') as f:\n",
    "    data = pickle.load(f)\n",
    "    x = data['image']\n",
    "    y = data['label']\n",
    "\n",
    "index=np.arange(len(y))\n",
    "np.random.shuffle(index)\n",
    "\n",
    "x=x[index]\n",
    "y=y[index]\n",
    "class_count=len(set(y))\n",
    "print(class_count)"
   ]
  },
  {
   "cell_type": "code",
   "execution_count": 9,
   "id": "afce4b55",
   "metadata": {},
   "outputs": [
    {
     "name": "stdout",
     "output_type": "stream",
     "text": [
      "Train on 264 samples\n",
      "Epoch 1/30\n",
      "264/264 [==============================] - 9s 35ms/sample - loss: 787.5095\n",
      "Epoch 2/30\n",
      "264/264 [==============================] - 9s 33ms/sample - loss: 6.9803\n",
      "Epoch 3/30\n",
      "264/264 [==============================] - 9s 33ms/sample - loss: 1.5942\n",
      "Epoch 4/30\n",
      "264/264 [==============================] - 9s 33ms/sample - loss: 1.2817\n",
      "Epoch 5/30\n",
      "264/264 [==============================] - 9s 34ms/sample - loss: 1.0202\n",
      "Epoch 6/30\n",
      "264/264 [==============================] - 9s 32ms/sample - loss: 0.9036\n",
      "Epoch 7/30\n",
      "264/264 [==============================] - 9s 33ms/sample - loss: 0.8162\n",
      "Epoch 8/30\n",
      "264/264 [==============================] - 9s 34ms/sample - loss: 0.5425\n",
      "Epoch 9/30\n",
      "264/264 [==============================] - 9s 33ms/sample - loss: 0.4963\n",
      "Epoch 10/30\n",
      "264/264 [==============================] - 9s 32ms/sample - loss: 0.4550\n",
      "Epoch 11/30\n",
      "264/264 [==============================] - 9s 33ms/sample - loss: 0.2956\n",
      "Epoch 12/30\n",
      "264/264 [==============================] - 9s 33ms/sample - loss: 0.3681\n",
      "Epoch 13/30\n",
      "264/264 [==============================] - 9s 33ms/sample - loss: 0.3004\n",
      "Epoch 14/30\n",
      "264/264 [==============================] - 9s 33ms/sample - loss: 0.2582\n",
      "Epoch 15/30\n",
      "264/264 [==============================] - 9s 33ms/sample - loss: 0.2602\n",
      "Epoch 16/30\n",
      "264/264 [==============================] - 9s 34ms/sample - loss: 0.2790\n",
      "Epoch 17/30\n",
      "264/264 [==============================] - 9s 33ms/sample - loss: 0.2309\n",
      "Epoch 18/30\n",
      "264/264 [==============================] - 9s 33ms/sample - loss: 0.1860\n",
      "Epoch 19/30\n",
      "264/264 [==============================] - 9s 33ms/sample - loss: 0.1931\n",
      "Epoch 20/30\n",
      "264/264 [==============================] - 9s 34ms/sample - loss: 0.2558\n",
      "Epoch 21/30\n",
      "264/264 [==============================] - 9s 34ms/sample - loss: 0.1548\n",
      "Epoch 22/30\n",
      "264/264 [==============================] - 8s 32ms/sample - loss: 0.2676\n",
      "Epoch 23/30\n",
      "264/264 [==============================] - 9s 33ms/sample - loss: 0.1715\n",
      "Epoch 24/30\n",
      "264/264 [==============================] - 9s 33ms/sample - loss: 0.1526\n",
      "Epoch 25/30\n",
      "264/264 [==============================] - 9s 32ms/sample - loss: 0.0964\n",
      "Epoch 26/30\n",
      "264/264 [==============================] - 9s 33ms/sample - loss: 0.0828\n",
      "Epoch 27/30\n",
      "264/264 [==============================] - 9s 33ms/sample - loss: 0.1833\n",
      "Epoch 28/30\n",
      "264/264 [==============================] - 9s 33ms/sample - loss: 0.2991\n",
      "Epoch 29/30\n",
      "264/264 [==============================] - 9s 34ms/sample - loss: 0.1147\n",
      "Epoch 30/30\n",
      "264/264 [==============================] - 10s 38ms/sample - loss: 0.1245\n"
     ]
    },
    {
     "data": {
      "text/plain": [
       "<tensorflow.python.keras.callbacks.History at 0x28714926308>"
      ]
     },
     "execution_count": 9,
     "metadata": {},
     "output_type": "execute_result"
    }
   ],
   "source": [
    "import tensorflow as tf\n",
    "\n",
    "x_train,x_test,y_train,y_test=train_test_split(x,y,test_size=0.1,random_state=np.random.randint(0,30))\n",
    "X = np.arange(1, len(y_test) + 1)\n",
    "\n",
    "model = tf.keras.Sequential()\n",
    "model.add(tf.keras.layers.Conv2D(filters=16,kernel_size=[3, 3],padding='same',activation=tf.nn.relu))\n",
    "model.add(tf.keras.layers.MaxPool2D(pool_size=[2,2],strides=2))\n",
    "model.add(tf.keras.layers.Conv2D(filters=32, kernel_size=[3, 3], padding='same', activation=tf.nn.relu))\n",
    "model.add(tf.keras.layers.MaxPool2D(pool_size=[2, 2], strides=2))\n",
    "model.add(tf.keras.layers.Conv2D(filters=64, kernel_size=[3, 3], padding='same', activation=tf.nn.relu))\n",
    "model.add(tf.keras.layers.MaxPool2D(pool_size=[2, 2], strides=2))\n",
    "model.add(tf.keras.layers.Dropout(0.5))\n",
    "model.add(tf.keras.layers.Flatten())\n",
    "model.add(tf.keras.layers.Dense(units=1024,activation=tf.nn.relu))\n",
    "model.add(tf.keras.layers.Dense(units=84, activation=tf.nn.relu))\n",
    "model.add(tf.keras.layers.Dense(units=class_count,activation=tf.nn.softmax))\n",
    "\n",
    "model.compile(optimizer=tf.keras.optimizers.Adam(learning_rate=0.001),loss=tf.keras.losses.sparse_categorical_crossentropy)\n",
    "\n",
    "model.fit(x_train,y_train,epochs=30)"
   ]
  },
  {
   "cell_type": "code",
   "execution_count": 10,
   "id": "2ca790ce",
   "metadata": {},
   "outputs": [
    {
     "data": {
      "image/png": "[encoded data removed]",
      "text/plain": [
       "<Figure size 1200x320 with 1 Axes>"
      ]
     },
     "metadata": {
      "needs_background": "light"
     },
     "output_type": "display_data"
    }
   ],
   "source": [
    "import matplotlib.pyplot as plt\n",
    "\n",
    "y_pre=model.predict(x_test)\n",
    "y_pre=y_pre.argmax(axis=1)\n",
    "y_pre=y_pre.reshape(1,-1)\n",
    "\n",
    "plt.figure(figsize=(15, 4), dpi=80)\n",
    "plt.scatter(X, y_test, label='real', marker='s', color='blue')\n",
    "plt.scatter(X, y_pre, label='predict', marker='x', color='red')\n",
    "plt.legend(loc=[1, 0])\n",
    "plt.grid(True, linestyle='--', alpha=0.5)\n",
    "plt.yticks(y_test[::1])\n",
    "plt.xticks(X[::1])\n",
    "plt.xlabel('index of tests')\n",
    "plt.ylabel('target')\n",
    "plt.title('Result')\n",
    "plt.savefig('pic\\\\Action_Detection_Result.jpg')"
   ]
  },
  {
   "cell_type": "code",
   "execution_count": null,
   "id": "495d257e",
   "metadata": {},
   "outputs": [],
   "source": []
  }
 ],
 "metadata": {
  "kernelspec": {
   "display_name": "Python 3",
   "language": "python",
   "name": "python3"
  },
  "language_info": {
   "codemirror_mode": {
    "name": "ipython",
    "version": 3
   },
   "file_extension": ".py",
   "mimetype": "text/x-python",
   "name": "python",
   "nbconvert_exporter": "python",
   "pygments_lexer": "ipython3",
   "version": "3.7.8"
  }
 },
 "nbformat": 4,
 "nbformat_minor": 5
}
