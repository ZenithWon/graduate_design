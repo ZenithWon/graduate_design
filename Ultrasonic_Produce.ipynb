{
 "cells": [
  {
   "cell_type": "markdown",
   "id": "bf56b926",
   "metadata": {},
   "source": [
    "## 超声波生成文件"
   ]
  },
  {
   "cell_type": "code",
   "execution_count": 1,
   "id": "009d7852",
   "metadata": {},
   "outputs": [
    {
     "name": "stdout",
     "output_type": "stream",
     "text": [
      "超声波音频 <ultrasonic.src_wav> ——已准备就绪\n"
     ]
    }
   ],
   "source": [
    "import sys\n",
    "import wave\n",
    "import numpy as np\n",
    "import struct\n",
    "\n",
    "# 音频参数设置\n",
    "framerate = 44100   # 采样频率\n",
    "sample_width = 2  # 采样字节长度\n",
    "\n",
    "#\n",
    "duration = 300  # 音频的长度(秒)\n",
    "frequency = 22000  # 音频的频率 通过修改这个参数，可以调节音频的频率 22000就是22KHz，属于超声波\n",
    "volume = 10000  # 音频的音量\n",
    "\n",
    "x = np.linspace(0, duration, num=duration*framerate)    # 在0到音频长度之间生成音频长度*音频频率个均匀间隔的数据\n",
    "\n",
    "y = np.sin(2 * np.pi * frequency * x) * volume\n",
    "\n",
    "# 将波形数据转换成数组\n",
    "sine_wave = y\n",
    "\n",
    "# 保存文件\n",
    "wf = wave.open(\"../ultrasonic.wav\", 'wb')      # 以二进制方式写文件\n",
    "wf.setnchannels(1)              # 设置声道数\n",
    "wf.setframerate(framerate)      # 设置采样频率\n",
    "wf.setsampwidth(sample_width)   # 设置采样字节长度\n",
    "\n",
    "for i in sine_wave:\n",
    "    data = struct.pack('<h', int(i))    # 整形数据变成字节\n",
    "    wf.writeframesraw(data)     # 写入帧数据\n",
    "print(\"超声波音频 <ultrasonic.src_wav> ——已准备就绪\")\n",
    "wf.close()"
   ]
  }
 ],
 "metadata": {
  "kernelspec": {
   "display_name": "Python 3",
   "language": "python",
   "name": "python3"
  },
  "language_info": {
   "codemirror_mode": {
    "name": "ipython",
    "version": 3
   },
   "file_extension": ".py",
   "mimetype": "text/x-python",
   "name": "python",
   "nbconvert_exporter": "python",
   "pygments_lexer": "ipython3",
   "version": "3.7.8"
  }
 },
 "nbformat": 4,
 "nbformat_minor": 5
}
