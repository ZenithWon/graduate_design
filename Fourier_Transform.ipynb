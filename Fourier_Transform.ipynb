{
 "cells": [
  {
   "cell_type": "markdown",
   "id": "ff1afedd",
   "metadata": {},
   "source": [
    "## 对音频进行傅里叶变换，抹掉低频噪音后再重新生成wav"
   ]
  },
  {
   "cell_type": "code",
   "execution_count": 12,
   "id": "4c83d98a",
   "metadata": {
    "scrolled": true
   },
   "outputs": [],
   "source": [
    "import wave as we\n",
    "import numpy as np\n",
    "import matplotlib.pyplot as plt\n",
    "import os\n",
    "import sys\n",
    "\n",
    "np.set_printoptions(suppress=True)\n",
    "\n",
    "dir=os.path.abspath('.')"
   ]
  },
  {
   "cell_type": "code",
   "execution_count": 14,
   "id": "452a9d50",
   "metadata": {
    "scrolled": true
   },
   "outputs": [],
   "source": [
    "def read_wav(filename):\n",
    "    #读出wav文件\n",
    "    f = we.open(dir + '\\wav\\src_wav\\\\' + filename + '.wav', 'rb')\n",
    "    params = f.getparams()\n",
    "    nchannels, sampwidth, framerate, nframes = params[:4]\n",
    "    strData = f.readframes(nframes)\n",
    "    waveData = np.frombuffer(strData, dtype=np.int16)\n",
    "    time=np.arange(0, nframes) * (1.0 / framerate)\n",
    "    if nchannels > 1:\n",
    "        waveData = np.reshape(waveData, [nframes, nchannels])\n",
    "        waveData = np.sum(waveData, axis=1) / nchannels\n",
    "    f.close()\n",
    "    return waveData, framerate,time"
   ]
  },
  {
   "cell_type": "code",
   "execution_count": 4,
   "id": "04bc3ee8",
   "metadata": {
    "scrolled": true
   },
   "outputs": [],
   "source": [
    "def fft_wav(waveData, framerate,filename,plots=False):\n",
    "    #对waveData数据进行傅里叶变换\n",
    "    f_array = np.fft.fft(waveData)\n",
    "    axis_f = np.linspace(0, int(framerate/2), int(len(f_array)/2))\n",
    "    if plots == True:\n",
    "        plt.figure(dpi=100)\n",
    "        plt.plot(axis_f, np.abs(f_array[0:len(axis_f)]))\n",
    "        plt.xlabel(\"Frequency\")\n",
    "        plt.ylabel(\"Amplitude spectrum\")\n",
    "        plt.title(\"FFT Result\")\n",
    "        plt.savefig(dir+'\\pic\\\\fft_pic\\\\'+filename+'_fft.png')\n",
    "    return f_array"
   ]
  },
  {
   "cell_type": "code",
   "execution_count": 5,
   "id": "2ae4a5cc",
   "metadata": {
    "scrolled": true
   },
   "outputs": [],
   "source": [
    "def transform_lowfram(wavefft,framerate,minf,filename,plots=False):\n",
    "    #抹掉低频信号\n",
    "    step_hz=(framerate/2) / (len(wavefft) / 2)\n",
    "    savewav = []\n",
    "    for i in range(int(minf/step_hz)):\n",
    "        savewav.append(0)\n",
    "    for i in range(int(minf/step_hz),len(wavefft)-int(minf/step_hz)):\n",
    "        savewav.append(wavefft[i])\n",
    "    for i in range(len(wavefft)-int(minf/step_hz),len(wavefft)):\n",
    "        savewav.append(0)\n",
    "    if plots:\n",
    "        axis_f = np.linspace(0, int(framerate / 2), int(len(wavefft) / 2))\n",
    "        plt.figure(dpi=100)\n",
    "        plt.plot(axis_f, np.abs(savewav[0:len(axis_f)]))\n",
    "        plt.xlabel(\"Frequency\")\n",
    "        plt.ylabel(\"Amplitude spectrum\")\n",
    "        plt.title(\"Low Frequency Deleted Result\")\n",
    "        plt.savefig(dir+'\\pic\\\\fft_lowdel_pic\\\\'+filename+'_lowdel.png')\n",
    "    return savewav"
   ]
  },
  {
   "cell_type": "code",
   "execution_count": 6,
   "id": "f2449da4",
   "metadata": {
    "scrolled": true
   },
   "outputs": [],
   "source": [
    "def ffti_wav(savewav,time,filename,plots=False):\n",
    "    #傅里叶逆变换保存文件\n",
    "    i_array = np.fft.ifft(savewav)\n",
    "    if plots:\n",
    "        plt.figure(dpi=100)\n",
    "        plt.plot(time, i_array.real)\n",
    "        plt.xlabel(\"Time\")\n",
    "        plt.ylabel(\"Amplitude\")\n",
    "        plt.title(\"Wavedata After Filtering\")\n",
    "        plt.savefig(dir+'\\pic\\lowdel_wav_pic\\\\'+filename+'_filter_wav.png')\n",
    "    save_wav = i_array.real.reshape((len(i_array), 1)).T.astype(np.short)\n",
    "    f = we.open(dir + '\\wav\\lowdel_wav\\\\'+filename+'_lowdel.wav', 'wb')\n",
    "    f.setnchannels(1)\n",
    "    f.setsampwidth(2)\n",
    "    f.setframerate(48000)\n",
    "    f.writeframes(save_wav.tobytes())\n",
    "    f.close()"
   ]
  },
  {
   "cell_type": "code",
   "execution_count": 16,
   "id": "c52410b8",
   "metadata": {
    "scrolled": true
   },
   "outputs": [
    {
     "name": "stdout",
     "output_type": "stream",
     "text": [
      "action1_1 OK!\n",
      "action1_10 OK!\n",
      "action1_11 OK!\n",
      "action1_12 OK!\n",
      "action1_13 OK!\n",
      "action1_14 OK!\n",
      "action1_15 OK!\n",
      "action1_16 OK!\n",
      "action1_17 OK!\n",
      "action1_18 OK!\n",
      "action1_19 OK!\n",
      "action1_2 OK!\n",
      "action1_20 OK!\n",
      "action1_21 OK!\n",
      "action1_22 OK!\n",
      "action1_23 OK!\n",
      "action1_24 OK!\n",
      "action1_25 OK!\n",
      "action1_26 OK!\n",
      "action1_27 OK!\n",
      "action1_28 OK!\n",
      "action1_29 OK!\n",
      "action1_3 OK!\n",
      "action1_30 OK!\n",
      "action1_31 OK!\n",
      "action1_32 OK!\n",
      "action1_33 OK!\n",
      "action1_34 OK!\n",
      "action1_35 OK!\n",
      "action1_36 OK!\n",
      "action1_37 OK!\n",
      "action1_38 OK!\n",
      "action1_39 OK!\n",
      "action1_4 OK!\n",
      "action1_40 OK!\n",
      "action1_41 OK!\n",
      "action1_42 OK!\n",
      "action1_43 OK!\n",
      "action1_44 OK!\n",
      "action1_45 OK!\n",
      "action1_46 OK!\n",
      "action1_47 OK!\n",
      "action1_5 OK!\n",
      "action1_6 OK!\n",
      "action1_7 OK!\n",
      "action1_8 OK!\n",
      "action1_9 OK!\n",
      "noaction_1 OK!\n",
      "noaction_10 OK!\n",
      "noaction_11 OK!\n",
      "noaction_12 OK!\n",
      "noaction_13 OK!\n",
      "noaction_14 OK!\n",
      "noaction_15 OK!\n",
      "noaction_16 OK!\n",
      "noaction_17 OK!\n",
      "noaction_18 OK!\n",
      "noaction_19 OK!\n",
      "noaction_2 OK!\n",
      "noaction_20 OK!\n",
      "noaction_21 OK!\n",
      "noaction_22 OK!\n",
      "noaction_23 OK!\n",
      "noaction_24 OK!\n",
      "noaction_25 OK!\n",
      "noaction_26 OK!\n",
      "noaction_27 OK!\n",
      "noaction_28 OK!\n",
      "noaction_29 OK!\n",
      "noaction_3 OK!\n",
      "noaction_30 OK!\n",
      "noaction_31 OK!\n",
      "noaction_32 OK!\n",
      "noaction_33 OK!\n",
      "noaction_34 OK!\n",
      "noaction_35 OK!\n",
      "noaction_36 OK!\n",
      "noaction_37 OK!\n",
      "noaction_38 OK!\n",
      "noaction_39 OK!\n",
      "noaction_4 OK!\n",
      "noaction_40 OK!\n",
      "noaction_41 OK!\n",
      "noaction_42 OK!\n",
      "noaction_43 OK!\n",
      "noaction_44 OK!\n",
      "noaction_45 OK!\n",
      "noaction_46 OK!\n",
      "noaction_47 OK!\n",
      "noaction_48 OK!\n",
      "noaction_5 OK!\n",
      "noaction_6 OK!\n",
      "noaction_7 OK!\n",
      "noaction_8 OK!\n",
      "noaction_9 OK!\n"
     ]
    }
   ],
   "source": [
    "filenames = os.listdir(dir + '\\wav\\src_wav')\n",
    "\n",
    "for i in range(len(filenames)):\n",
    "    filenames[i] = filenames[i][:len(filenames[i]) - 4]\n",
    "\n",
    "for filename in filenames:\n",
    "    waveData, framerate ,time= read_wav(filename)\n",
    "    f_array = fft_wav(waveData, framerate, filename, plots=False)\n",
    "    savewav=transform_lowfram(f_array,framerate,18000,filename,plots=False)\n",
    "    ffti_wav(savewav,time,filename,plots=False)\n",
    "    print(filename+' OK!')"
   ]
  },
  {
   "cell_type": "code",
   "execution_count": null,
   "id": "ef41b65e",
   "metadata": {
    "scrolled": true
   },
   "outputs": [],
   "source": []
  }
 ],
 "metadata": {
  "kernelspec": {
   "display_name": "Python 3",
   "language": "python",
   "name": "python3"
  },
  "language_info": {
   "codemirror_mode": {
    "name": "ipython",
    "version": 3
   },
   "file_extension": ".py",
   "mimetype": "text/x-python",
   "name": "python",
   "nbconvert_exporter": "python",
   "pygments_lexer": "ipython3",
   "version": "3.7.8"
  }
 },
 "nbformat": 4,
 "nbformat_minor": 5
}
